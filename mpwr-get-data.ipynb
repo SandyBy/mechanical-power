{
 "cells": [
  {
   "cell_type": "code",
   "execution_count": 2,
   "metadata": {
    "collapsed": false
   },
   "outputs": [],
   "source": [
    "# Import libraries\n",
    "import numpy as np\n",
    "import pandas as pd\n",
    "import matplotlib.pyplot as plt\n",
    "import psycopg2\n",
    "import socket\n",
    "import sys\n",
    "\n",
    "# default colours for prettier plots\n",
    "col = [[0.9047, 0.1918, 0.1988],\n",
    "    [0.2941, 0.5447, 0.7494],\n",
    "    [0.3718, 0.7176, 0.3612],\n",
    "    [1.0000, 0.5482, 0.1000],\n",
    "    [0.4550, 0.4946, 0.4722],\n",
    "    [0.6859, 0.4035, 0.2412],\n",
    "    [0.9718, 0.5553, 0.7741],\n",
    "    [0.5313, 0.3359, 0.6523]];\n",
    "marker = ['v','o','d','^','s','o','+']\n",
    "ls = ['-','-','-','-','-','s','--','--']\n",
    "%matplotlib inline\n",
    "\n",
    "from __future__ import print_function"
   ]
  },
  {
   "cell_type": "code",
   "execution_count": 3,
   "metadata": {
    "collapsed": true
   },
   "outputs": [],
   "source": [
    "hostname=socket.gethostname()\n",
    "\n",
    "if hostname=='alistair-pc70':\n",
    "    sqluser = 'alistairewj'\n",
    "else:\n",
    "    sqluser = 'postgres'\n",
    "\n",
    "dbname = 'mimic'\n",
    "schema_name = 'mimiciii'\n",
    "query_schema = 'SET search_path to public,' + schema_name + ';'"
   ]
  },
  {
   "cell_type": "code",
   "execution_count": 60,
   "metadata": {
    "collapsed": false
   },
   "outputs": [],
   "source": [
    "# Connect to local postgres version of mimic\n",
    "con = psycopg2.connect(dbname=dbname, user=sqluser)"
   ]
  },
  {
   "cell_type": "code",
   "execution_count": 61,
   "metadata": {
    "collapsed": false
   },
   "outputs": [],
   "source": [
    "# exclusion criteria:\n",
    "#   - less than 16 years old\n",
    "#   - never have any chartevents data (i.e. likely administrative error)\n",
    "#   - not cardiac surgery\n",
    "#   - suspected of infection\n",
    "#   - first ICU stay\n",
    "\n",
    "query = query_schema + \"select * from mpwr_cohort\"\n",
    "\n",
    "co = pd.read_sql_query(query,con)"
   ]
  },
  {
   "cell_type": "code",
   "execution_count": 62,
   "metadata": {
    "collapsed": false
   },
   "outputs": [
    {
     "name": "stdout",
     "output_type": "stream",
     "text": [
      "Cohort - initial size: 61532 ICU stays\n",
      "   8109 (13.18%) - exclusion_nonadult\n",
      "\n",
      "Cohort - adults: 53423 ICU stays\n",
      "      0 (0.00%) - exclusion_nonadult\n",
      "  14826 (27.75%) - exclusion_readmission\n",
      "   1480 (2.77%) - exclusion_trach\n",
      "  28471 (53.29%) - exclusion_not_vent\n",
      "  46142 (86.37%) - exclusion_not_vent_48hr\n",
      "    468 (0.88%) - exclusion_bad_data\n",
      "Final cohort size: 5003 ICU stays (9.36%).\n"
     ]
    }
   ],
   "source": [
    "# print out the exclusions\n",
    "N = co.shape[0]\n",
    "print('Cohort - initial size: {} ICU stays'.format(N))\n",
    "idxRem = np.zeros(co.shape[0],dtype=bool)\n",
    "\n",
    "# apply adult exclusions\n",
    "c = \"exclusion_nonadult\"\n",
    "if c in co.columns:\n",
    "    print('  {:5g} ({:2.2f}%) - {}'.format(np.sum(co[c]),np.sum(co[c])*100.0/N, c))\n",
    "    print('')\n",
    "    idxRem[co[c].values==1] = True\n",
    "    co = co.loc[~idxRem,:]\n",
    "    N = co.shape[0]\n",
    "    idxRem = np.zeros(co.shape[0],dtype=bool)\n",
    "    print('Cohort - adults: {} ICU stays'.format(N))\n",
    "    \n",
    "for c in co.columns:\n",
    "    if c.startswith('exclusion_'):\n",
    "        print('  {:5g} ({:2.2f}%) - {}'.format(np.sum(co[c]),np.sum(co[c])*100.0/N, c))\n",
    "        idxRem[co[c].values==1] = 1\n",
    "        \n",
    "print('Final cohort size: {} ICU stays ({:2.2f}%).'.format(N - np.sum(idxRem), (1-np.mean(idxRem))*100.0))"
   ]
  },
  {
   "cell_type": "code",
   "execution_count": 63,
   "metadata": {
    "collapsed": false
   },
   "outputs": [
    {
     "data": {
      "text/plain": [
       "Index([u'icustay_id', u'height', u'weight', u'smoking', u'gender', u'age',\n",
       "       u'admission_type', u'source_of_admission', u'insurance',\n",
       "       u'marital_status',\n",
       "       ...\n",
       "       u'plateau_pressure_min_day2', u'plateau_pressure_max_day2',\n",
       "       u'peak_insp_pressure_min_day2', u'peak_insp_pressure_max_day2',\n",
       "       u'resp_rate_set_min_day2', u'resp_rate_set_max_day2',\n",
       "       u'resp_rate_total_min_day2', u'resp_rate_total_max_day2',\n",
       "       u'rrtfirstday', u'ventfirstday'],\n",
       "      dtype='object', length=107)"
      ]
     },
     "execution_count": 63,
     "metadata": {},
     "output_type": "execute_result"
    }
   ],
   "source": [
    "# load in final dataset (already has exclusion criteria applied)\n",
    "query = query_schema + \"select * from mpwr_data\"\n",
    "\n",
    "df = pd.read_sql_query(query,con)\n",
    "df.columns"
   ]
  },
  {
   "cell_type": "markdown",
   "metadata": {},
   "source": [
    "We have: ICU intime/outtime, suspected infection time, whether the microbiology culture was positive, some demographics, comorbidities, outcomes, and the severity scores. \n",
    "\n",
    "The severity scores are extracted at a [0, 24] hour window centered around ICU admission - except labs have an extended [-6, 24] hour window (i.e. 'sofa' is extracted in this way)."
   ]
  },
  {
   "cell_type": "markdown",
   "metadata": {},
   "source": [
    "# Vent duration"
   ]
  },
  {
   "cell_type": "code",
   "execution_count": 64,
   "metadata": {
    "collapsed": false
   },
   "outputs": [
    {
     "data": {
      "image/png": "[encoded data removed]",
      "text/plain": [
       "<matplotlib.figure.Figure at 0x7f405fe984d0>"
      ]
     },
     "metadata": {},
     "output_type": "display_data"
    }
   ],
   "source": [
    "# distribution of time of infection\n",
    "xi = np.linspace(0, 30, 30*2+1)\n",
    "\n",
    "idxKeep = np.ones(df.shape[0], dtype=bool)\n",
    "tmp = df.loc[idxKeep,'duration_first_vent_days']\n",
    "# to calc hours from dates: (df.loc[idxKeep,'suspected_infection_time'] - df.loc[idxKeep,'intime']).values / np.timedelta64(1, 'h')\n",
    "\n",
    "N_firstday = sum( (tmp>2) )\n",
    "plt.figure(figsize=[10,6])\n",
    "plt.hist( tmp, bins=xi )\n",
    "plt.title('{} patients had *first* ventilation duration > 2 days ({:2.2f}%).'.format(\n",
    "        N_firstday, N_firstday*100.0 / tmp.shape[0]))\n",
    "plt.show()"
   ]
  },
  {
   "cell_type": "code",
   "execution_count": 65,
   "metadata": {
    "collapsed": false
   },
   "outputs": [
    {
     "data": {
      "image/png": "[encoded data removed]",
      "text/plain": [
       "<matplotlib.figure.Figure at 0x7f40585fee50>"
      ]
     },
     "metadata": {},
     "output_type": "display_data"
    }
   ],
   "source": [
    "# distribution of time of infection\n",
    "xi = np.linspace(0, 30, 30*2+1)\n",
    "\n",
    "idxKeep = np.ones(df.shape[0], dtype=bool)\n",
    "tmp = df.loc[idxKeep,'duration_vent_total_days']\n",
    "# to calc hours from dates: (df.loc[idxKeep,'suspected_infection_time'] - df.loc[idxKeep,'intime']).values / np.timedelta64(1, 'h')\n",
    "\n",
    "N_firstday = sum( (tmp>2) )\n",
    "plt.figure(figsize=[10,6])\n",
    "plt.hist( tmp, bins=xi )\n",
    "plt.title('{} patients had *total* ventilation duration > 2 days ({:2.2f}%).'.format(\n",
    "        N_firstday, N_firstday*100.0 / tmp.shape[0]))\n",
    "plt.show()"
   ]
  },
  {
   "cell_type": "code",
   "execution_count": 66,
   "metadata": {
    "collapsed": false
   },
   "outputs": [
    {
     "name": "stdout",
     "output_type": "stream",
     "text": [
      "Of the total 5003.0 stays, 102 had ARDS 2.04%.\n"
     ]
    }
   ],
   "source": [
    "# determine how many were excluded for reasons other than suspicion of infection\n",
    "idxRem = np.zeros(co.shape[0])\n",
    "for c in co.columns:\n",
    "    if c.startswith('exclusion_'):\n",
    "        if c != 'exclusion_suspicion':\n",
    "            idxRem[co[c].values==1] = 1\n",
    "\n",
    "N = co.shape[0] - np.sum(idxRem)\n",
    "\n",
    "# report on % with suspicion of infection\n",
    "print('Of the total {} stays, {} had ARDS {:2.2f}%.'.format(\n",
    "        N,\n",
    "        np.sum(df.ards > 0),\n",
    "        np.sum(df.ards > 0).astype(float)*100.0 / N\n",
    "    ))"
   ]
  },
  {
   "cell_type": "markdown",
   "metadata": {},
   "source": [
    "# Save the data to file\n",
    "\n",
    "The dataframes will be loaded directly from a file, rather than the database.\n",
    "\n",
    "The `X` data which was written to 'sepsis3-design-matrix.csv' will be used by the `print_auc_table_baseline` function to evaluate the AUROC of the scores when incorporated with the baseline model."
   ]
  },
  {
   "cell_type": "code",
   "execution_count": 67,
   "metadata": {
    "collapsed": true
   },
   "outputs": [],
   "source": [
    "df.to_csv('mech-power-data.csv',sep=',',index=False)"
   ]
  },
  {
   "cell_type": "code",
   "execution_count": 68,
   "metadata": {
    "collapsed": true
   },
   "outputs": [],
   "source": [
    "con.close()"
   ]
  }
 ],
 "metadata": {
  "kernelspec": {
   "display_name": "Python 2",
   "language": "python",
   "name": "python2"
  },
  "language_info": {
   "codemirror_mode": {
    "name": "ipython",
    "version": 2
   },
   "file_extension": ".py",
   "mimetype": "text/x-python",
   "name": "python",
   "nbconvert_exporter": "python",
   "pygments_lexer": "ipython2",
   "version": "2.7.12"
  }
 },
 "nbformat": 4,
 "nbformat_minor": 0
}
